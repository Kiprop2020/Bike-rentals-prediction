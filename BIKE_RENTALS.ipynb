{
  "nbformat": 4,
  "nbformat_minor": 0,
  "metadata": {
    "colab": {
      "name": "BIKE RENTALS",
      "provenance": []
    },
    "kernelspec": {
      "name": "python3",
      "display_name": "Python 3"
    }
  },
  "cells": [
    {
      "cell_type": "markdown",
      "metadata": {
        "id": "Fl_Z0TFwIVJc"
      },
      "source": [
        "# **BIKE RENTAL PREDICTION**\r\n",
        "In this project, I will be attempting to predict the total number of people who rent bikes in a given hour. \r\n",
        "\r\n",
        "The data that I will use was compiled by [Hadi Fanaee-T](http://www.liaad.up.pt/area/fanaee) at the [University of Porto](http://www.up.pt/) and is available as a CSV file. The file contains 17380 rows, with each row representing the number of bike rentals for a single hour of a single day. The data can be dowloaded from the [University of California, Irvine's website](http://archive.ics.uci.edu/ml/datasets/Bike+Sharing+Dataset).\r\n",
        "\r\n",
        "***Below is a description of the relevant columns:***\r\n",
        "\r\n",
        " \r\n",
        "\r\n",
        "*   **instant** - A unique sequential ID number for each row\r\n",
        "*   **dteday** - The date of the rentals\r\n",
        "*   **season** - The season in which the rentals occurred\r\n",
        "*   **yr** - The year the rentals occurred\r\n",
        "*   **mnth** - The month the rentals occurred\r\n",
        "*   **hr** - The hour the rentals occurred\r\n",
        "*   **holiday** - Whether or not the day was a holiday\r\n",
        "*   **weekday** - The day of the week (as a number, 0 to 7)\r\n",
        "*   **workingday** - Whether or not the day was a working day\r\n",
        "*   **weathersit** - The weather (as a categorical variable)\r\n",
        "*   **temp** - The temperature, on a 0-1 scale\r\n",
        "*   **atemp** - The adjusted temperature\r\n",
        "*   **hum** - The humidity, on a 0-1 scale\r\n",
        "*   **windspeed** - The wind speed, on a 0-1 scale\r\n",
        "*   **casual** - The number of casual riders (people who hadn't previously signed up with the bike sharing program)\r\n",
        "*   **registered** - The number of registered riders (people who had already signed up)\r\n",
        "*   **cnt** - The total number of bike rentals (casual + registered)\r\n",
        "\r\n",
        "I'll be trying to predict the **cnt** column and will not include **casual** and **registered** columns in the training of the models. I will build **Logistic Regression** and a **Random Forests Regressor** models and and try to combine the models to achieve good predictions\r\n"
      ]
    },
    {
      "cell_type": "markdown",
      "metadata": {
        "id": "-YaKhXVEITj-"
      },
      "source": [
        "Import libraries"
      ]
    },
    {
      "cell_type": "code",
      "metadata": {
        "id": "JSd0FBXqB4XS"
      },
      "source": [
        "# Libraries for reading and manipulating data\r\n",
        "import pandas as pd\r\n",
        "import numpy as np\r\n",
        "\r\n",
        "# Libraries for visualizing data\r\n",
        "import seaborn as sns\r\n",
        "import matplotlib.pyplot as plt\r\n",
        "\r\n",
        "# Libraries for training the models and assessing their performance\r\n",
        "from sklearn.linear_model import LinearRegression\r\n",
        "from sklearn.tree import DecisionTreeRegressor\r\n",
        "from sklearn.ensemble import RandomForestRegressor\r\n",
        "\r\n",
        "# Metrics for assessing performance\r\n",
        "from sklearn.metrics import mean_squared_error "
      ],
      "execution_count": 88,
      "outputs": []
    },
    {
      "cell_type": "code",
      "metadata": {
        "colab": {
          "base_uri": "https://localhost:8080/",
          "height": 198
        },
        "id": "7vPgju4pPAaR",
        "outputId": "f6bc6558-cdad-4f33-c45c-7a8f87b5d3e0"
      },
      "source": [
        "# Read and preview the first five rows of the data\r\n",
        "bike_rentals = pd.read_csv('bike_rental_hour.csv')\r\n",
        "bike_rentals.head()"
      ],
      "execution_count": 89,
      "outputs": [
        {
          "output_type": "execute_result",
          "data": {
            "text/html": [
              "<div>\n",
              "<style scoped>\n",
              "    .dataframe tbody tr th:only-of-type {\n",
              "        vertical-align: middle;\n",
              "    }\n",
              "\n",
              "    .dataframe tbody tr th {\n",
              "        vertical-align: top;\n",
              "    }\n",
              "\n",
              "    .dataframe thead th {\n",
              "        text-align: right;\n",
              "    }\n",
              "</style>\n",
              "<table border=\"1\" class=\"dataframe\">\n",
              "  <thead>\n",
              "    <tr style=\"text-align: right;\">\n",
              "      <th></th>\n",
              "      <th>instant</th>\n",
              "      <th>dteday</th>\n",
              "      <th>season</th>\n",
              "      <th>yr</th>\n",
              "      <th>mnth</th>\n",
              "      <th>hr</th>\n",
              "      <th>holiday</th>\n",
              "      <th>weekday</th>\n",
              "      <th>workingday</th>\n",
              "      <th>weathersit</th>\n",
              "      <th>temp</th>\n",
              "      <th>atemp</th>\n",
              "      <th>hum</th>\n",
              "      <th>windspeed</th>\n",
              "      <th>casual</th>\n",
              "      <th>registered</th>\n",
              "      <th>cnt</th>\n",
              "    </tr>\n",
              "  </thead>\n",
              "  <tbody>\n",
              "    <tr>\n",
              "      <th>0</th>\n",
              "      <td>1</td>\n",
              "      <td>2011-01-01</td>\n",
              "      <td>1</td>\n",
              "      <td>0</td>\n",
              "      <td>1</td>\n",
              "      <td>0</td>\n",
              "      <td>0</td>\n",
              "      <td>6</td>\n",
              "      <td>0</td>\n",
              "      <td>1</td>\n",
              "      <td>0.24</td>\n",
              "      <td>0.2879</td>\n",
              "      <td>0.81</td>\n",
              "      <td>0.0</td>\n",
              "      <td>3</td>\n",
              "      <td>13</td>\n",
              "      <td>16</td>\n",
              "    </tr>\n",
              "    <tr>\n",
              "      <th>1</th>\n",
              "      <td>2</td>\n",
              "      <td>2011-01-01</td>\n",
              "      <td>1</td>\n",
              "      <td>0</td>\n",
              "      <td>1</td>\n",
              "      <td>1</td>\n",
              "      <td>0</td>\n",
              "      <td>6</td>\n",
              "      <td>0</td>\n",
              "      <td>1</td>\n",
              "      <td>0.22</td>\n",
              "      <td>0.2727</td>\n",
              "      <td>0.80</td>\n",
              "      <td>0.0</td>\n",
              "      <td>8</td>\n",
              "      <td>32</td>\n",
              "      <td>40</td>\n",
              "    </tr>\n",
              "    <tr>\n",
              "      <th>2</th>\n",
              "      <td>3</td>\n",
              "      <td>2011-01-01</td>\n",
              "      <td>1</td>\n",
              "      <td>0</td>\n",
              "      <td>1</td>\n",
              "      <td>2</td>\n",
              "      <td>0</td>\n",
              "      <td>6</td>\n",
              "      <td>0</td>\n",
              "      <td>1</td>\n",
              "      <td>0.22</td>\n",
              "      <td>0.2727</td>\n",
              "      <td>0.80</td>\n",
              "      <td>0.0</td>\n",
              "      <td>5</td>\n",
              "      <td>27</td>\n",
              "      <td>32</td>\n",
              "    </tr>\n",
              "    <tr>\n",
              "      <th>3</th>\n",
              "      <td>4</td>\n",
              "      <td>2011-01-01</td>\n",
              "      <td>1</td>\n",
              "      <td>0</td>\n",
              "      <td>1</td>\n",
              "      <td>3</td>\n",
              "      <td>0</td>\n",
              "      <td>6</td>\n",
              "      <td>0</td>\n",
              "      <td>1</td>\n",
              "      <td>0.24</td>\n",
              "      <td>0.2879</td>\n",
              "      <td>0.75</td>\n",
              "      <td>0.0</td>\n",
              "      <td>3</td>\n",
              "      <td>10</td>\n",
              "      <td>13</td>\n",
              "    </tr>\n",
              "    <tr>\n",
              "      <th>4</th>\n",
              "      <td>5</td>\n",
              "      <td>2011-01-01</td>\n",
              "      <td>1</td>\n",
              "      <td>0</td>\n",
              "      <td>1</td>\n",
              "      <td>4</td>\n",
              "      <td>0</td>\n",
              "      <td>6</td>\n",
              "      <td>0</td>\n",
              "      <td>1</td>\n",
              "      <td>0.24</td>\n",
              "      <td>0.2879</td>\n",
              "      <td>0.75</td>\n",
              "      <td>0.0</td>\n",
              "      <td>0</td>\n",
              "      <td>1</td>\n",
              "      <td>1</td>\n",
              "    </tr>\n",
              "  </tbody>\n",
              "</table>\n",
              "</div>"
            ],
            "text/plain": [
              "   instant      dteday  season  yr  ...  windspeed  casual  registered  cnt\n",
              "0        1  2011-01-01       1   0  ...        0.0       3          13   16\n",
              "1        2  2011-01-01       1   0  ...        0.0       8          32   40\n",
              "2        3  2011-01-01       1   0  ...        0.0       5          27   32\n",
              "3        4  2011-01-01       1   0  ...        0.0       3          10   13\n",
              "4        5  2011-01-01       1   0  ...        0.0       0           1    1\n",
              "\n",
              "[5 rows x 17 columns]"
            ]
          },
          "metadata": {
            "tags": []
          },
          "execution_count": 89
        }
      ]
    },
    {
      "cell_type": "code",
      "metadata": {
        "colab": {
          "base_uri": "https://localhost:8080/"
        },
        "id": "zlcrO2dITpko",
        "outputId": "cc166dd1-fc92-4ac8-8196-38ed743ca2cd"
      },
      "source": [
        "# Check if there are columns with missing values, missing values cause errors\r\n",
        "# when training the models and hence have to be dealt with \r\n",
        "bike_rentals.isna().sum()"
      ],
      "execution_count": 90,
      "outputs": [
        {
          "output_type": "execute_result",
          "data": {
            "text/plain": [
              "instant       0\n",
              "dteday        0\n",
              "season        0\n",
              "yr            0\n",
              "mnth          0\n",
              "hr            0\n",
              "holiday       0\n",
              "weekday       0\n",
              "workingday    0\n",
              "weathersit    0\n",
              "temp          0\n",
              "atemp         0\n",
              "hum           0\n",
              "windspeed     0\n",
              "casual        0\n",
              "registered    0\n",
              "cnt           0\n",
              "dtype: int64"
            ]
          },
          "metadata": {
            "tags": []
          },
          "execution_count": 90
        }
      ]
    },
    {
      "cell_type": "markdown",
      "metadata": {
        "id": "h4L67eULkUYV"
      },
      "source": [
        "correlations between the variables and the target column (cnt) "
      ]
    },
    {
      "cell_type": "code",
      "metadata": {
        "colab": {
          "base_uri": "https://localhost:8080/"
        },
        "id": "zPMTO_SkjVm5",
        "outputId": "b033caa1-72a5-460f-c522-3bc969a157c8"
      },
      "source": [
        "data_cols = bike_rentals.columns\r\n",
        "sorted_corrs = bike_rentals[data_cols].corr()['cnt'].sort_values()\r\n",
        "print(sorted_corrs)\r\n",
        "corrmat = bike_rentals[sorted_corrs.index].corr()"
      ],
      "execution_count": 91,
      "outputs": [
        {
          "output_type": "stream",
          "text": [
            "hum          -0.322911\n",
            "weathersit   -0.142426\n",
            "holiday      -0.030927\n",
            "weekday       0.026900\n",
            "workingday    0.030284\n",
            "windspeed     0.093234\n",
            "mnth          0.120638\n",
            "season        0.178056\n",
            "yr            0.250495\n",
            "instant       0.278379\n",
            "hr            0.394071\n",
            "atemp         0.400929\n",
            "temp          0.404772\n",
            "casual        0.694564\n",
            "registered    0.972151\n",
            "cnt           1.000000\n",
            "Name: cnt, dtype: float64\n"
          ],
          "name": "stdout"
        }
      ]
    },
    {
      "cell_type": "code",
      "metadata": {
        "colab": {
          "base_uri": "https://localhost:8080/",
          "height": 317
        },
        "id": "fW015I4ylVv2",
        "outputId": "c2887139-5cce-4bf2-f6e4-862f8ddfaca1"
      },
      "source": [
        "# Plot a correlation heatmap to see whether there are variables that are too\r\n",
        "# closely related and may influence the training more\r\n",
        "sns.heatmap(corrmat)\r\n",
        "plt.show()"
      ],
      "execution_count": 92,
      "outputs": [
        {
          "output_type": "display_data",
          "data": {
            "image/png": "[encoded data removed]",
            "text/plain": [
              "<Figure size 432x288 with 2 Axes>"
            ]
          },
          "metadata": {
            "tags": [],
            "needs_background": "light"
          }
        }
      ]
    },
    {
      "cell_type": "code",
      "metadata": {
        "id": "vNJjC7GqUc7y"
      },
      "source": [
        "'''\r\n",
        "From the correlations and the heatmap above the following columns need to be\r\n",
        "dropped:\r\n",
        "instant - just a unique id\r\n",
        "dteday - details captured more accurately in month, season, year\r\n",
        "casual - relates directly with the cnt\r\n",
        "registered - relates directly with the cnt\r\n",
        "temp - relates directly with atemp \r\n",
        "'''\r\n",
        "\r\n",
        "# Drop the 'instant', 'dteday', 'casual' and 'registered' columns\r\n",
        "bike_rentals.drop(columns=['instant', 'dteday', 'casual', 'registered', \r\n",
        "                           'temp'], inplace=True)"
      ],
      "execution_count": 93,
      "outputs": []
    },
    {
      "cell_type": "code",
      "metadata": {
        "colab": {
          "base_uri": "https://localhost:8080/",
          "height": 298
        },
        "id": "Q57qtsRt4Soe",
        "outputId": "08e7ed96-7de1-4b11-b011-0ab84c460d2b"
      },
      "source": [
        "# Histogram to see distribution of bike rentals per hour\r\n",
        "sns.histplot(bike_rentals['cnt'])"
      ],
      "execution_count": 94,
      "outputs": [
        {
          "output_type": "execute_result",
          "data": {
            "text/plain": [
              "<matplotlib.axes._subplots.AxesSubplot at 0x7f937ea18cd0>"
            ]
          },
          "metadata": {
            "tags": []
          },
          "execution_count": 94
        },
        {
          "output_type": "display_data",
          "data": {
            "image/png": "[encoded data removed]",
            "text/plain": [
              "<Figure size 432x288 with 1 Axes>"
            ]
          },
          "metadata": {
            "tags": [],
            "needs_background": "light"
          }
        }
      ]
    },
    {
      "cell_type": "code",
      "metadata": {
        "colab": {
          "base_uri": "https://localhost:8080/"
        },
        "id": "HareQheY4nHk",
        "outputId": "cfbc0b07-2e91-45e4-e8dc-efc17cd74082"
      },
      "source": [
        "bike_rentals['cnt'].mean()"
      ],
      "execution_count": 95,
      "outputs": [
        {
          "output_type": "execute_result",
          "data": {
            "text/plain": [
              "189.46308763450142"
            ]
          },
          "metadata": {
            "tags": []
          },
          "execution_count": 95
        }
      ]
    },
    {
      "cell_type": "code",
      "metadata": {
        "colab": {
          "base_uri": "https://localhost:8080/"
        },
        "id": "PDzhZS7FocfC",
        "outputId": "8a9e462e-4230-4558-fa2b-7091e04d3c50"
      },
      "source": [
        "training_cols = list(bike_rentals.columns)\r\n",
        "training_cols.remove('cnt')\r\n",
        "\r\n",
        "# 80% of the rows to be in the training sent and the rest in the testing\r\n",
        "train_test_split = round(len(bike_rentals.index) * .8)\r\n",
        "# Select the 80% randomly, random_state=1 for reproducibility\r\n",
        "train = bike_rentals.sample(train_test_split, random_state=1)\r\n",
        "# All rows not in train sent will be in testing set\r\n",
        "test = bike_rentals.loc[~bike_rentals.index.isin(train.index)]\r\n",
        "X_train = train[training_cols]\r\n",
        "y_train = train['cnt']\r\n",
        "X_test = test[training_cols]\r\n",
        "y_test = test['cnt']\r\n",
        "\r\n",
        "# Ensure the testing and training sets are of correct shapes\r\n",
        "print(f'Shapes: X_train; {X_train.shape}, y_train; {y_train.shape}, X_test; \\\r\n",
        "{X_test.shape}, y_test; {y_test.shape}')"
      ],
      "execution_count": 96,
      "outputs": [
        {
          "output_type": "stream",
          "text": [
            "Shapes: X_train; (13903, 11), y_train; (13903,), X_test; (3476, 11), y_test; (3476,)\n"
          ],
          "name": "stdout"
        }
      ]
    },
    {
      "cell_type": "markdown",
      "metadata": {
        "id": "4v5fUaY9svWN"
      },
      "source": [
        "**Train the Linear Regression, Decision Tree Regressor, and Random Forest Regressor models**"
      ]
    },
    {
      "cell_type": "code",
      "metadata": {
        "colab": {
          "base_uri": "https://localhost:8080/"
        },
        "id": "CKHAsAHTsKSN",
        "outputId": "c7ee18fb-96f1-455c-b7d2-75c06e12c1cc"
      },
      "source": [
        "results_dict = {}\r\n",
        "lr = LinearRegression()\r\n",
        "dtr = DecisionTreeRegressor(min_samples_leaf=6)\r\n",
        "rfr = RandomForestRegressor(min_samples_leaf=3, min_samples_split=3)\r\n",
        "for name, model in [['linear regression', lr], ['decision trees', dtr], \r\n",
        "                    ['random forests', rfr]]:\r\n",
        "    model.fit(X_train, y_train)\r\n",
        "    train_predictions = model.predict(X_train)\r\n",
        "    test_predictions = model.predict(X_test)\r\n",
        "    train_rmse = np.sqrt(mean_squared_error(y_train, train_predictions))\r\n",
        "    test_rmse = np.sqrt(mean_squared_error(y_test, test_predictions))\r\n",
        "    results_dict[name] = [train_rmse, test_rmse]\r\n",
        "results_dict"
      ],
      "execution_count": 97,
      "outputs": [
        {
          "output_type": "execute_result",
          "data": {
            "text/plain": [
              "{'decision trees': [36.62237957173966, 54.62631684108824],\n",
              " 'linear regression': [142.2903332661265, 139.94117854989577],\n",
              " 'random forests': [27.564146691495992, 45.22395498509029]}"
            ]
          },
          "metadata": {
            "tags": []
          },
          "execution_count": 97
        }
      ]
    },
    {
      "cell_type": "markdown",
      "metadata": {
        "id": "Fm4poPnJ7fU0"
      },
      "source": [
        "After tweaking the models, the best results achived are as shown above, the **linear regression** model was the most innacurate and on average had rmse of about **140** which was quite high but there was no evidence of overfitting or underfitting\r\n",
        "\r\n",
        "The **Decision Tree Regressor** model was the second best model with rmse on training data of about **36** and rmse on testing data of about **53**, suggesting that the model is overfitting\r\n",
        "\r\n",
        "The **Random Forest Regressor** model was the best with  rmse on training data of about **27** and rmse on testing data of about **44**, also suggesting that the model is overfitting"
      ]
    },
    {
      "cell_type": "markdown",
      "metadata": {
        "id": "Ye4zQdDf9Rv7"
      },
      "source": [
        "**Use best performing model to make predictions on test data**"
      ]
    },
    {
      "cell_type": "code",
      "metadata": {
        "id": "5lTHwZ2E9FQC"
      },
      "source": [
        "model = RandomForestRegressor(min_samples_leaf=3, min_samples_split=3)\r\n",
        "model.fit(X_train, y_train)\r\n",
        "predictions = model.predict(X_test)\r\n",
        "test2 = test.copy()\r\n",
        "test2['predictions'] = predictions"
      ],
      "execution_count": 98,
      "outputs": []
    },
    {
      "cell_type": "code",
      "metadata": {
        "colab": {
          "base_uri": "https://localhost:8080/",
          "height": 348
        },
        "id": "mWULRY-R96g6",
        "outputId": "3c9b2f9f-ba7e-404a-b5a1-f41e09cb257e"
      },
      "source": [
        "# Sample 10 rows to compare 'cnt' and 'predictions' columns\r\n",
        "test2.sample(10)"
      ],
      "execution_count": 99,
      "outputs": [
        {
          "output_type": "execute_result",
          "data": {
            "text/html": [
              "<div>\n",
              "<style scoped>\n",
              "    .dataframe tbody tr th:only-of-type {\n",
              "        vertical-align: middle;\n",
              "    }\n",
              "\n",
              "    .dataframe tbody tr th {\n",
              "        vertical-align: top;\n",
              "    }\n",
              "\n",
              "    .dataframe thead th {\n",
              "        text-align: right;\n",
              "    }\n",
              "</style>\n",
              "<table border=\"1\" class=\"dataframe\">\n",
              "  <thead>\n",
              "    <tr style=\"text-align: right;\">\n",
              "      <th></th>\n",
              "      <th>season</th>\n",
              "      <th>yr</th>\n",
              "      <th>mnth</th>\n",
              "      <th>hr</th>\n",
              "      <th>holiday</th>\n",
              "      <th>weekday</th>\n",
              "      <th>workingday</th>\n",
              "      <th>weathersit</th>\n",
              "      <th>atemp</th>\n",
              "      <th>hum</th>\n",
              "      <th>windspeed</th>\n",
              "      <th>cnt</th>\n",
              "      <th>predictions</th>\n",
              "    </tr>\n",
              "  </thead>\n",
              "  <tbody>\n",
              "    <tr>\n",
              "      <th>12170</th>\n",
              "      <td>2</td>\n",
              "      <td>1</td>\n",
              "      <td>5</td>\n",
              "      <td>7</td>\n",
              "      <td>0</td>\n",
              "      <td>0</td>\n",
              "      <td>0</td>\n",
              "      <td>1</td>\n",
              "      <td>0.5606</td>\n",
              "      <td>0.88</td>\n",
              "      <td>0.1642</td>\n",
              "      <td>52</td>\n",
              "      <td>50.056587</td>\n",
              "    </tr>\n",
              "    <tr>\n",
              "      <th>6236</th>\n",
              "      <td>3</td>\n",
              "      <td>0</td>\n",
              "      <td>9</td>\n",
              "      <td>10</td>\n",
              "      <td>0</td>\n",
              "      <td>4</td>\n",
              "      <td>1</td>\n",
              "      <td>2</td>\n",
              "      <td>0.5758</td>\n",
              "      <td>0.89</td>\n",
              "      <td>0.2239</td>\n",
              "      <td>120</td>\n",
              "      <td>131.187126</td>\n",
              "    </tr>\n",
              "    <tr>\n",
              "      <th>10274</th>\n",
              "      <td>1</td>\n",
              "      <td>1</td>\n",
              "      <td>3</td>\n",
              "      <td>4</td>\n",
              "      <td>0</td>\n",
              "      <td>5</td>\n",
              "      <td>1</td>\n",
              "      <td>3</td>\n",
              "      <td>0.4091</td>\n",
              "      <td>0.66</td>\n",
              "      <td>0.2836</td>\n",
              "      <td>1</td>\n",
              "      <td>3.276766</td>\n",
              "    </tr>\n",
              "    <tr>\n",
              "      <th>7924</th>\n",
              "      <td>4</td>\n",
              "      <td>0</td>\n",
              "      <td>12</td>\n",
              "      <td>20</td>\n",
              "      <td>0</td>\n",
              "      <td>4</td>\n",
              "      <td>1</td>\n",
              "      <td>1</td>\n",
              "      <td>0.3485</td>\n",
              "      <td>0.46</td>\n",
              "      <td>0.1045</td>\n",
              "      <td>190</td>\n",
              "      <td>162.423187</td>\n",
              "    </tr>\n",
              "    <tr>\n",
              "      <th>12622</th>\n",
              "      <td>2</td>\n",
              "      <td>1</td>\n",
              "      <td>6</td>\n",
              "      <td>3</td>\n",
              "      <td>0</td>\n",
              "      <td>5</td>\n",
              "      <td>1</td>\n",
              "      <td>1</td>\n",
              "      <td>0.5303</td>\n",
              "      <td>0.83</td>\n",
              "      <td>0.1642</td>\n",
              "      <td>5</td>\n",
              "      <td>10.948276</td>\n",
              "    </tr>\n",
              "    <tr>\n",
              "      <th>1733</th>\n",
              "      <td>1</td>\n",
              "      <td>0</td>\n",
              "      <td>3</td>\n",
              "      <td>21</td>\n",
              "      <td>0</td>\n",
              "      <td>4</td>\n",
              "      <td>1</td>\n",
              "      <td>1</td>\n",
              "      <td>0.4242</td>\n",
              "      <td>0.62</td>\n",
              "      <td>0.2239</td>\n",
              "      <td>138</td>\n",
              "      <td>103.316357</td>\n",
              "    </tr>\n",
              "    <tr>\n",
              "      <th>10640</th>\n",
              "      <td>2</td>\n",
              "      <td>1</td>\n",
              "      <td>3</td>\n",
              "      <td>11</td>\n",
              "      <td>0</td>\n",
              "      <td>6</td>\n",
              "      <td>0</td>\n",
              "      <td>2</td>\n",
              "      <td>0.4848</td>\n",
              "      <td>0.94</td>\n",
              "      <td>0.1940</td>\n",
              "      <td>273</td>\n",
              "      <td>335.084207</td>\n",
              "    </tr>\n",
              "    <tr>\n",
              "      <th>13952</th>\n",
              "      <td>3</td>\n",
              "      <td>1</td>\n",
              "      <td>8</td>\n",
              "      <td>13</td>\n",
              "      <td>0</td>\n",
              "      <td>4</td>\n",
              "      <td>1</td>\n",
              "      <td>1</td>\n",
              "      <td>0.7879</td>\n",
              "      <td>0.41</td>\n",
              "      <td>0.1045</td>\n",
              "      <td>281</td>\n",
              "      <td>279.796174</td>\n",
              "    </tr>\n",
              "    <tr>\n",
              "      <th>2679</th>\n",
              "      <td>2</td>\n",
              "      <td>0</td>\n",
              "      <td>4</td>\n",
              "      <td>13</td>\n",
              "      <td>0</td>\n",
              "      <td>2</td>\n",
              "      <td>1</td>\n",
              "      <td>1</td>\n",
              "      <td>0.6667</td>\n",
              "      <td>0.51</td>\n",
              "      <td>0.4478</td>\n",
              "      <td>176</td>\n",
              "      <td>160.551599</td>\n",
              "    </tr>\n",
              "    <tr>\n",
              "      <th>13401</th>\n",
              "      <td>3</td>\n",
              "      <td>1</td>\n",
              "      <td>7</td>\n",
              "      <td>14</td>\n",
              "      <td>0</td>\n",
              "      <td>2</td>\n",
              "      <td>1</td>\n",
              "      <td>1</td>\n",
              "      <td>0.8333</td>\n",
              "      <td>0.29</td>\n",
              "      <td>0.2537</td>\n",
              "      <td>214</td>\n",
              "      <td>220.571025</td>\n",
              "    </tr>\n",
              "  </tbody>\n",
              "</table>\n",
              "</div>"
            ],
            "text/plain": [
              "       season  yr  mnth  hr  holiday  ...   atemp   hum  windspeed  cnt  predictions\n",
              "12170       2   1     5   7        0  ...  0.5606  0.88     0.1642   52    50.056587\n",
              "6236        3   0     9  10        0  ...  0.5758  0.89     0.2239  120   131.187126\n",
              "10274       1   1     3   4        0  ...  0.4091  0.66     0.2836    1     3.276766\n",
              "7924        4   0    12  20        0  ...  0.3485  0.46     0.1045  190   162.423187\n",
              "12622       2   1     6   3        0  ...  0.5303  0.83     0.1642    5    10.948276\n",
              "1733        1   0     3  21        0  ...  0.4242  0.62     0.2239  138   103.316357\n",
              "10640       2   1     3  11        0  ...  0.4848  0.94     0.1940  273   335.084207\n",
              "13952       3   1     8  13        0  ...  0.7879  0.41     0.1045  281   279.796174\n",
              "2679        2   0     4  13        0  ...  0.6667  0.51     0.4478  176   160.551599\n",
              "13401       3   1     7  14        0  ...  0.8333  0.29     0.2537  214   220.571025\n",
              "\n",
              "[10 rows x 13 columns]"
            ]
          },
          "metadata": {
            "tags": []
          },
          "execution_count": 99
        }
      ]
    }
  ]
}